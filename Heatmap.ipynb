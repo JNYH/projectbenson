{
 "cells": [
  {
   "cell_type": "markdown",
   "metadata": {},
   "source": [
    "# Heatmap of NYC Subway Station Traffic"
   ]
  },
  {
   "cell_type": "markdown",
   "metadata": {},
   "source": [
    "### Import Packages"
   ]
  },
  {
   "cell_type": "code",
   "execution_count": 19,
   "metadata": {},
   "outputs": [],
   "source": [
    "import pandas as pd\n",
    "from datetime import datetime\n",
    "import pickle\n",
    "import folium"
   ]
  },
  {
   "cell_type": "markdown",
   "metadata": {},
   "source": [
    "### Load Turnstile Data"
   ]
  },
  {
   "cell_type": "code",
   "execution_count": 2,
   "metadata": {},
   "outputs": [
    {
     "name": "stderr",
     "output_type": "stream",
     "text": [
      "/Users/kc/anaconda3/lib/python3.7/site-packages/IPython/core/interactiveshell.py:3049: DtypeWarning: Columns (4) have mixed types. Specify dtype option on import or set low_memory=False.\n",
      "  interactivity=interactivity, compiler=compiler, result=result)\n"
     ]
    }
   ],
   "source": [
    "# 2017 Turnstile data from \"https://data.ny.gov/Transportation/Turnstile-Usage-Data-2017/v5y5-mwpb\"\n",
    "# Replace the path below with the file on your local machine\n",
    "path = \"/Users/kc/OneDrive/Projects/projectbenson/data/data_2017.csv\"\n",
    "\n",
    "df = pd.read_csv(path, sep=',')"
   ]
  },
  {
   "cell_type": "code",
   "execution_count": 3,
   "metadata": {},
   "outputs": [
    {
     "data": {
      "text/html": [
       "<div>\n",
       "<style scoped>\n",
       "    .dataframe tbody tr th:only-of-type {\n",
       "        vertical-align: middle;\n",
       "    }\n",
       "\n",
       "    .dataframe tbody tr th {\n",
       "        vertical-align: top;\n",
       "    }\n",
       "\n",
       "    .dataframe thead th {\n",
       "        text-align: right;\n",
       "    }\n",
       "</style>\n",
       "<table border=\"1\" class=\"dataframe\">\n",
       "  <thead>\n",
       "    <tr style=\"text-align: right;\">\n",
       "      <th></th>\n",
       "      <th>C/A</th>\n",
       "      <th>Unit</th>\n",
       "      <th>SCP</th>\n",
       "      <th>Station</th>\n",
       "      <th>Line Name</th>\n",
       "      <th>Division</th>\n",
       "      <th>Date</th>\n",
       "      <th>Time</th>\n",
       "      <th>Description</th>\n",
       "      <th>Entries</th>\n",
       "      <th>Exits</th>\n",
       "    </tr>\n",
       "  </thead>\n",
       "  <tbody>\n",
       "    <tr>\n",
       "      <th>0</th>\n",
       "      <td>A002</td>\n",
       "      <td>R051</td>\n",
       "      <td>02-00-00</td>\n",
       "      <td>59 ST</td>\n",
       "      <td>NQR456W</td>\n",
       "      <td>BMT</td>\n",
       "      <td>12/22/2017</td>\n",
       "      <td>23:00:00</td>\n",
       "      <td>REGULAR</td>\n",
       "      <td>6455787</td>\n",
       "      <td>2184977</td>\n",
       "    </tr>\n",
       "    <tr>\n",
       "      <th>1</th>\n",
       "      <td>A002</td>\n",
       "      <td>R051</td>\n",
       "      <td>02-00-00</td>\n",
       "      <td>59 ST</td>\n",
       "      <td>NQR456W</td>\n",
       "      <td>BMT</td>\n",
       "      <td>12/22/2017</td>\n",
       "      <td>19:00:00</td>\n",
       "      <td>REGULAR</td>\n",
       "      <td>6455505</td>\n",
       "      <td>2184926</td>\n",
       "    </tr>\n",
       "    <tr>\n",
       "      <th>2</th>\n",
       "      <td>A002</td>\n",
       "      <td>R051</td>\n",
       "      <td>02-00-00</td>\n",
       "      <td>59 ST</td>\n",
       "      <td>NQR456W</td>\n",
       "      <td>BMT</td>\n",
       "      <td>12/22/2017</td>\n",
       "      <td>15:00:00</td>\n",
       "      <td>REGULAR</td>\n",
       "      <td>6454819</td>\n",
       "      <td>2184867</td>\n",
       "    </tr>\n",
       "    <tr>\n",
       "      <th>3</th>\n",
       "      <td>A002</td>\n",
       "      <td>R051</td>\n",
       "      <td>02-00-00</td>\n",
       "      <td>59 ST</td>\n",
       "      <td>NQR456W</td>\n",
       "      <td>BMT</td>\n",
       "      <td>12/22/2017</td>\n",
       "      <td>11:00:00</td>\n",
       "      <td>REGULAR</td>\n",
       "      <td>6454437</td>\n",
       "      <td>2184773</td>\n",
       "    </tr>\n",
       "    <tr>\n",
       "      <th>4</th>\n",
       "      <td>A002</td>\n",
       "      <td>R051</td>\n",
       "      <td>02-00-00</td>\n",
       "      <td>59 ST</td>\n",
       "      <td>NQR456W</td>\n",
       "      <td>BMT</td>\n",
       "      <td>12/22/2017</td>\n",
       "      <td>07:00:00</td>\n",
       "      <td>REGULAR</td>\n",
       "      <td>6454285</td>\n",
       "      <td>2184501</td>\n",
       "    </tr>\n",
       "  </tbody>\n",
       "</table>\n",
       "</div>"
      ],
      "text/plain": [
       "    C/A  Unit       SCP Station Line Name Division        Date      Time  \\\n",
       "0  A002  R051  02-00-00   59 ST   NQR456W      BMT  12/22/2017  23:00:00   \n",
       "1  A002  R051  02-00-00   59 ST   NQR456W      BMT  12/22/2017  19:00:00   \n",
       "2  A002  R051  02-00-00   59 ST   NQR456W      BMT  12/22/2017  15:00:00   \n",
       "3  A002  R051  02-00-00   59 ST   NQR456W      BMT  12/22/2017  11:00:00   \n",
       "4  A002  R051  02-00-00   59 ST   NQR456W      BMT  12/22/2017  07:00:00   \n",
       "\n",
       "  Description  Entries  \\\n",
       "0     REGULAR  6455787   \n",
       "1     REGULAR  6455505   \n",
       "2     REGULAR  6454819   \n",
       "3     REGULAR  6454437   \n",
       "4     REGULAR  6454285   \n",
       "\n",
       "   Exits                                                       \n",
       "0                                            2184977           \n",
       "1                                            2184926           \n",
       "2                                            2184867           \n",
       "3                                            2184773           \n",
       "4                                            2184501           "
      ]
     },
     "execution_count": 3,
     "metadata": {},
     "output_type": "execute_result"
    }
   ],
   "source": [
    "df.head()"
   ]
  },
  {
   "cell_type": "code",
   "execution_count": 4,
   "metadata": {},
   "outputs": [
    {
     "data": {
      "text/plain": [
       "Index(['C/A', 'Unit', 'SCP', 'Station', 'Line Name', 'Division', 'Date',\n",
       "       'Time', 'Description', 'Entries',\n",
       "       'Exits                                                     '],\n",
       "      dtype='object')"
      ]
     },
     "execution_count": 4,
     "metadata": {},
     "output_type": "execute_result"
    }
   ],
   "source": [
    "df.columns"
   ]
  },
  {
   "cell_type": "code",
   "execution_count": 5,
   "metadata": {},
   "outputs": [
    {
     "data": {
      "text/plain": [
       "C/A                                                           object\n",
       "Unit                                                          object\n",
       "SCP                                                           object\n",
       "Station                                                       object\n",
       "Line Name                                                     object\n",
       "Division                                                      object\n",
       "Date                                                          object\n",
       "Time                                                          object\n",
       "Description                                                   object\n",
       "Entries                                                        int64\n",
       "Exits                                                          int64\n",
       "dtype: object"
      ]
     },
     "execution_count": 5,
     "metadata": {},
     "output_type": "execute_result"
    }
   ],
   "source": [
    "df.dtypes"
   ]
  },
  {
   "cell_type": "markdown",
   "metadata": {},
   "source": [
    "### Clean & Transform Turnstile Data"
   ]
  },
  {
   "cell_type": "code",
   "execution_count": 6,
   "metadata": {},
   "outputs": [],
   "source": [
    "# Remove whitespace from column names\n",
    "df.columns = df.columns.str.strip()\n",
    "\n",
    "# Drop irrelevant columns\n",
    "df.drop(columns=[\"Line Name\", \"Division\", \"Description\"], axis=1, inplace=True)"
   ]
  },
  {
   "cell_type": "code",
   "execution_count": 7,
   "metadata": {},
   "outputs": [],
   "source": [
    "# This cell will take some time to run\n",
    "# Concatenate Date & Time into DateTime column DT\n",
    "df[\"DT\"] = df[['Date', 'Time']].apply(lambda x: ' '.join(x), axis=1)\n",
    "\n",
    "# Convert DT into DateTime format\n",
    "df[\"DT\"] = pd.to_datetime(df[\"DT\"], infer_datetime_format=True)\n",
    "\n",
    "# Concatenate C/A, Unit & SCP into 1 Unique Identifier Column\n",
    "df[\"ID\"] = df[[\"C/A\", \"Unit\", \"SCP\"]].apply(lambda x: ' '.join(x), axis=1)\n",
    "\n",
    "# Rearrange Columns\n",
    "df = df[[\"ID\", \"DT\", \"Station\", \"Entries\", \"Exits\"]]"
   ]
  },
  {
   "cell_type": "code",
   "execution_count": 8,
   "metadata": {},
   "outputs": [],
   "source": [
    "# This cell will take some time to run\n",
    "# Sort DT in descending order\n",
    "df.sort_values(by=['ID', 'DT'], ascending=[True, False], inplace=True)\n",
    "\n",
    "# Apply pd.Series.diff() on [\"Entries\"] and [\"Exits\"] within each [\"ID\"] group to obtain value of incremental change\n",
    "df['Entry_Diff'] = df.groupby(['ID'])['Entries'].apply(lambda x: abs(x.diff()))\n",
    "df['Exit_Diff'] = df.groupby(['ID'])['Exits'].apply(lambda x: abs(x.diff()))\n",
    "\n",
    "# Sum values of incremental change for [\"Entries\"] and [\"Exits\"] for overall Traffic within time interval\n",
    "df['Traffic'] = df[\"Entry_Diff\"] + df[\"Exit_Diff\"]"
   ]
  },
  {
   "cell_type": "code",
   "execution_count": 9,
   "metadata": {},
   "outputs": [],
   "source": [
    "# Remove outliers by taking only values below the 99th percentile\n",
    "f1 = df[\"Entry_Diff\"].quantile(0.99)\n",
    "df = df[df[\"Entry_Diff\"] < f1]\n",
    "\n",
    "f2 = df[\"Exit_Diff\"].quantile(0.99)\n",
    "df = df[df[\"Exit_Diff\"] < f2]\n",
    "\n",
    "f3 = df[\"Traffic\"].quantile(0.99)\n",
    "df = df[df[\"Traffic\"] < f3]"
   ]
  },
  {
   "cell_type": "markdown",
   "metadata": {},
   "source": [
    "### Pickling Data for Faster Loading"
   ]
  },
  {
   "cell_type": "code",
   "execution_count": 2,
   "metadata": {},
   "outputs": [
    {
     "data": {
      "text/html": [
       "<div>\n",
       "<style scoped>\n",
       "    .dataframe tbody tr th:only-of-type {\n",
       "        vertical-align: middle;\n",
       "    }\n",
       "\n",
       "    .dataframe tbody tr th {\n",
       "        vertical-align: top;\n",
       "    }\n",
       "\n",
       "    .dataframe thead th {\n",
       "        text-align: right;\n",
       "    }\n",
       "</style>\n",
       "<table border=\"1\" class=\"dataframe\">\n",
       "  <thead>\n",
       "    <tr style=\"text-align: right;\">\n",
       "      <th></th>\n",
       "      <th>ID</th>\n",
       "      <th>DT</th>\n",
       "      <th>Station</th>\n",
       "      <th>Entries</th>\n",
       "      <th>Exits</th>\n",
       "      <th>Entry_Diff</th>\n",
       "      <th>Exit_Diff</th>\n",
       "      <th>Traffic</th>\n",
       "    </tr>\n",
       "  </thead>\n",
       "  <tbody>\n",
       "    <tr>\n",
       "      <th>1</th>\n",
       "      <td>A002 R051 02-00-00</td>\n",
       "      <td>2017-12-22 19:00:00</td>\n",
       "      <td>59 ST</td>\n",
       "      <td>6455505</td>\n",
       "      <td>2184926</td>\n",
       "      <td>282.0</td>\n",
       "      <td>51.0</td>\n",
       "      <td>333.0</td>\n",
       "    </tr>\n",
       "    <tr>\n",
       "      <th>2</th>\n",
       "      <td>A002 R051 02-00-00</td>\n",
       "      <td>2017-12-22 15:00:00</td>\n",
       "      <td>59 ST</td>\n",
       "      <td>6454819</td>\n",
       "      <td>2184867</td>\n",
       "      <td>686.0</td>\n",
       "      <td>59.0</td>\n",
       "      <td>745.0</td>\n",
       "    </tr>\n",
       "    <tr>\n",
       "      <th>3</th>\n",
       "      <td>A002 R051 02-00-00</td>\n",
       "      <td>2017-12-22 11:00:00</td>\n",
       "      <td>59 ST</td>\n",
       "      <td>6454437</td>\n",
       "      <td>2184773</td>\n",
       "      <td>382.0</td>\n",
       "      <td>94.0</td>\n",
       "      <td>476.0</td>\n",
       "    </tr>\n",
       "    <tr>\n",
       "      <th>4</th>\n",
       "      <td>A002 R051 02-00-00</td>\n",
       "      <td>2017-12-22 07:00:00</td>\n",
       "      <td>59 ST</td>\n",
       "      <td>6454285</td>\n",
       "      <td>2184501</td>\n",
       "      <td>152.0</td>\n",
       "      <td>272.0</td>\n",
       "      <td>424.0</td>\n",
       "    </tr>\n",
       "    <tr>\n",
       "      <th>5</th>\n",
       "      <td>A002 R051 02-00-00</td>\n",
       "      <td>2017-12-22 03:00:00</td>\n",
       "      <td>59 ST</td>\n",
       "      <td>6454273</td>\n",
       "      <td>2184470</td>\n",
       "      <td>12.0</td>\n",
       "      <td>31.0</td>\n",
       "      <td>43.0</td>\n",
       "    </tr>\n",
       "  </tbody>\n",
       "</table>\n",
       "</div>"
      ],
      "text/plain": [
       "                   ID                  DT Station  Entries    Exits  \\\n",
       "1  A002 R051 02-00-00 2017-12-22 19:00:00   59 ST  6455505  2184926   \n",
       "2  A002 R051 02-00-00 2017-12-22 15:00:00   59 ST  6454819  2184867   \n",
       "3  A002 R051 02-00-00 2017-12-22 11:00:00   59 ST  6454437  2184773   \n",
       "4  A002 R051 02-00-00 2017-12-22 07:00:00   59 ST  6454285  2184501   \n",
       "5  A002 R051 02-00-00 2017-12-22 03:00:00   59 ST  6454273  2184470   \n",
       "\n",
       "   Entry_Diff  Exit_Diff  Traffic  \n",
       "1       282.0       51.0    333.0  \n",
       "2       686.0       59.0    745.0  \n",
       "3       382.0       94.0    476.0  \n",
       "4       152.0      272.0    424.0  \n",
       "5        12.0       31.0     43.0  "
      ]
     },
     "execution_count": 2,
     "metadata": {},
     "output_type": "execute_result"
    }
   ],
   "source": [
    "# Pickle df to load data faster next time\n",
    "\n",
    "# To Save Pickle\n",
    "# with open('df.pickle', 'wb') as to_write:\n",
    "#     pickle.dump(df, to_write)\n",
    "    \n",
    "# To Load Pickle\n",
    "# with open('df.pickle','rb') as read_file:\n",
    "#     df = pickle.load(read_file)\n",
    "\n",
    "# Check\n",
    "df.head()"
   ]
  },
  {
   "cell_type": "markdown",
   "metadata": {},
   "source": [
    "### Load Coordinate Data"
   ]
  },
  {
   "cell_type": "code",
   "execution_count": 20,
   "metadata": {},
   "outputs": [
    {
     "data": {
      "text/html": [
       "<div>\n",
       "<style scoped>\n",
       "    .dataframe tbody tr th:only-of-type {\n",
       "        vertical-align: middle;\n",
       "    }\n",
       "\n",
       "    .dataframe tbody tr th {\n",
       "        vertical-align: top;\n",
       "    }\n",
       "\n",
       "    .dataframe thead th {\n",
       "        text-align: right;\n",
       "    }\n",
       "</style>\n",
       "<table border=\"1\" class=\"dataframe\">\n",
       "  <thead>\n",
       "    <tr style=\"text-align: right;\">\n",
       "      <th></th>\n",
       "      <th>URL</th>\n",
       "      <th>OBJECTID</th>\n",
       "      <th>NAME</th>\n",
       "      <th>the_geom</th>\n",
       "      <th>LINE</th>\n",
       "      <th>NOTES</th>\n",
       "    </tr>\n",
       "  </thead>\n",
       "  <tbody>\n",
       "    <tr>\n",
       "      <th>0</th>\n",
       "      <td>http://web.mta.info/nyct/service/</td>\n",
       "      <td>1</td>\n",
       "      <td>Astor Pl</td>\n",
       "      <td>POINT (-73.99106999861966 40.73005400028978)</td>\n",
       "      <td>4-6-6 Express</td>\n",
       "      <td>4 nights, 6-all times, 6 Express-weekdays AM s...</td>\n",
       "    </tr>\n",
       "    <tr>\n",
       "      <th>1</th>\n",
       "      <td>http://web.mta.info/nyct/service/</td>\n",
       "      <td>2</td>\n",
       "      <td>Canal St</td>\n",
       "      <td>POINT (-74.00019299927328 40.71880300107709)</td>\n",
       "      <td>4-6-6 Express</td>\n",
       "      <td>4 nights, 6-all times, 6 Express-weekdays AM s...</td>\n",
       "    </tr>\n",
       "    <tr>\n",
       "      <th>2</th>\n",
       "      <td>http://web.mta.info/nyct/service/</td>\n",
       "      <td>3</td>\n",
       "      <td>50th St</td>\n",
       "      <td>POINT (-73.98384899986625 40.76172799961419)</td>\n",
       "      <td>1-2</td>\n",
       "      <td>1-all times, 2-nights</td>\n",
       "    </tr>\n",
       "    <tr>\n",
       "      <th>3</th>\n",
       "      <td>http://web.mta.info/nyct/service/</td>\n",
       "      <td>4</td>\n",
       "      <td>Bergen St</td>\n",
       "      <td>POINT (-73.97499915116808 40.68086213682956)</td>\n",
       "      <td>2-3-4</td>\n",
       "      <td>4-nights, 3-all other times, 2-all times</td>\n",
       "    </tr>\n",
       "    <tr>\n",
       "      <th>4</th>\n",
       "      <td>http://web.mta.info/nyct/service/</td>\n",
       "      <td>5</td>\n",
       "      <td>Pennsylvania Ave</td>\n",
       "      <td>POINT (-73.89488591154061 40.66471445143568)</td>\n",
       "      <td>3-4</td>\n",
       "      <td>4-nights, 3-all other times</td>\n",
       "    </tr>\n",
       "  </tbody>\n",
       "</table>\n",
       "</div>"
      ],
      "text/plain": [
       "                                 URL  OBJECTID              NAME  \\\n",
       "0  http://web.mta.info/nyct/service/         1          Astor Pl   \n",
       "1  http://web.mta.info/nyct/service/         2          Canal St   \n",
       "2  http://web.mta.info/nyct/service/         3           50th St   \n",
       "3  http://web.mta.info/nyct/service/         4         Bergen St   \n",
       "4  http://web.mta.info/nyct/service/         5  Pennsylvania Ave   \n",
       "\n",
       "                                       the_geom           LINE  \\\n",
       "0  POINT (-73.99106999861966 40.73005400028978)  4-6-6 Express   \n",
       "1  POINT (-74.00019299927328 40.71880300107709)  4-6-6 Express   \n",
       "2  POINT (-73.98384899986625 40.76172799961419)            1-2   \n",
       "3  POINT (-73.97499915116808 40.68086213682956)          2-3-4   \n",
       "4  POINT (-73.89488591154061 40.66471445143568)            3-4   \n",
       "\n",
       "                                               NOTES  \n",
       "0  4 nights, 6-all times, 6 Express-weekdays AM s...  \n",
       "1  4 nights, 6-all times, 6 Express-weekdays AM s...  \n",
       "2                              1-all times, 2-nights  \n",
       "3           4-nights, 3-all other times, 2-all times  \n",
       "4                        4-nights, 3-all other times  "
      ]
     },
     "execution_count": 20,
     "metadata": {},
     "output_type": "execute_result"
    }
   ],
   "source": [
    "# Bringing in station coordinate data \n",
    "# Station coordinate data from \"https://data.cityofnewyork.us/Transportation/Subway-Stations/arq3-7z49\"\n",
    "# Replace the path below with the file on your local machine\n",
    "coords_df = pd.read_csv(\"/Users/kc/OneDrive/Projects/projectbenson/data/station_coordinates.csv\", sep=',')\n",
    "\n",
    "coords_df.head()"
   ]
  },
  {
   "cell_type": "markdown",
   "metadata": {},
   "source": [
    "### Cleaning & Transforming Coordinate Data"
   ]
  },
  {
   "cell_type": "code",
   "execution_count": 21,
   "metadata": {},
   "outputs": [],
   "source": [
    "# Remove useless characters\n",
    "coords_df[\"the_geom\"] = coords_df[\"the_geom\"].str.replace(\"POINT \\(|\\)\", \"\")\n",
    "\n",
    "# Split coordinates into lat & lon\n",
    "coords = coords_df[\"the_geom\"].str.split(expand=True)\n",
    "\n",
    "# Reassign into new columns\n",
    "coords_df[\"lon\"] = coords[0].astype(float)\n",
    "coords_df[\"lat\"] = coords[1].astype(float)\n",
    "\n",
    "# Take only relevant columns\n",
    "coords_df = coords_df[[\"NAME\", \"lat\", \"lon\"]]"
   ]
  },
  {
   "cell_type": "code",
   "execution_count": 22,
   "metadata": {},
   "outputs": [
    {
     "data": {
      "text/plain": [
       "NAME     object\n",
       "lat     float64\n",
       "lon     float64\n",
       "dtype: object"
      ]
     },
     "execution_count": 22,
     "metadata": {},
     "output_type": "execute_result"
    }
   ],
   "source": [
    "coords_df.dtypes"
   ]
  },
  {
   "cell_type": "code",
   "execution_count": 23,
   "metadata": {},
   "outputs": [
    {
     "data": {
      "text/plain": [
       "118"
      ]
     },
     "execution_count": 23,
     "metadata": {},
     "output_type": "execute_result"
    }
   ],
   "source": [
    "# Check for duplicates\n",
    "coords_df[\"NAME\"].duplicated().sum()"
   ]
  },
  {
   "cell_type": "code",
   "execution_count": 24,
   "metadata": {},
   "outputs": [],
   "source": [
    "# Drop duplicates\n",
    "coords_df[\"NAME\"].drop_duplicates(inplace=True)"
   ]
  },
  {
   "cell_type": "code",
   "execution_count": 25,
   "metadata": {},
   "outputs": [
    {
     "data": {
      "text/plain": [
       "0"
      ]
     },
     "execution_count": 25,
     "metadata": {},
     "output_type": "execute_result"
    }
   ],
   "source": [
    "# Recheck for duplicates\n",
    "coords_df[\"NAME\"].duplicated().sum()"
   ]
  },
  {
   "cell_type": "code",
   "execution_count": 26,
   "metadata": {},
   "outputs": [],
   "source": [
    "# Map Station Names from Coordinate dataset to Turnstile Data set for joining\n",
    "# Only Top 10 stations explicitly mapped; others will be joined as much as possible\n",
    "mapping = {\"34th St - Penn Station\" : \"34 ST-PENN STA\",\n",
    "          \"Times Sq - 42nd St\" : \"TIMES SQ-42 ST\",\n",
    "          \"42nd St - Port Authority Bus Term\" : \"42 ST-PORT AUTH\",\n",
    "          \"Herald Sq - 34th St\" : \"34 ST-HERALD SQ\",\n",
    "          \"Grand Central - 42nd St\" : \"GRD CNTRL-42 ST\",\n",
    "          \"Union Sq - 14th St\" : \"14 ST-UNION SQ\",\n",
    "          \"Flushing - Main St\" : \"FLUSHING-MAIN\",\n",
    "          \"59th St - Columbus Circle\" : \"59 ST COLUMBUS\",\n",
    "          \"Atlantic Av - Barclay's Center\" : \"ATL AV-BARCLAY\"}\n",
    "\n",
    "coords_df.replace({\"NAME\" : mapping}, inplace=True)\n",
    "\n",
    "# Making names uppercase\n",
    "coords_df[\"NAME\"] = coords_df[\"NAME\"].str.upper()\n",
    "\n",
    "# Remove th, rd and nd from station names with regex for better chance of joining\n",
    "coords_df[\"NAME\"] = coords_df[\"NAME\"].str.replace(\"(?<=\\d)TH|(?<=\\d)RD|(?<=\\d)ND\\b\", \"\")"
   ]
  },
  {
   "cell_type": "code",
   "execution_count": 27,
   "metadata": {},
   "outputs": [
    {
     "data": {
      "text/html": [
       "<div>\n",
       "<style scoped>\n",
       "    .dataframe tbody tr th:only-of-type {\n",
       "        vertical-align: middle;\n",
       "    }\n",
       "\n",
       "    .dataframe tbody tr th {\n",
       "        vertical-align: top;\n",
       "    }\n",
       "\n",
       "    .dataframe thead th {\n",
       "        text-align: right;\n",
       "    }\n",
       "</style>\n",
       "<table border=\"1\" class=\"dataframe\">\n",
       "  <thead>\n",
       "    <tr style=\"text-align: right;\">\n",
       "      <th></th>\n",
       "      <th>NAME</th>\n",
       "      <th>lat</th>\n",
       "      <th>lon</th>\n",
       "    </tr>\n",
       "  </thead>\n",
       "  <tbody>\n",
       "    <tr>\n",
       "      <th>0</th>\n",
       "      <td>ASTOR PL</td>\n",
       "      <td>40.7300540002897833</td>\n",
       "      <td>-73.9910699986196647</td>\n",
       "    </tr>\n",
       "    <tr>\n",
       "      <th>1</th>\n",
       "      <td>CANAL ST</td>\n",
       "      <td>40.7188030010770916</td>\n",
       "      <td>-74.0001929992732812</td>\n",
       "    </tr>\n",
       "    <tr>\n",
       "      <th>2</th>\n",
       "      <td>50 ST</td>\n",
       "      <td>40.7617279996141875</td>\n",
       "      <td>-73.9838489998662538</td>\n",
       "    </tr>\n",
       "    <tr>\n",
       "      <th>3</th>\n",
       "      <td>BERGEN ST</td>\n",
       "      <td>40.6808621368295604</td>\n",
       "      <td>-73.9749991511680776</td>\n",
       "    </tr>\n",
       "    <tr>\n",
       "      <th>4</th>\n",
       "      <td>PENNSYLVANIA AVE</td>\n",
       "      <td>40.6647144514356782</td>\n",
       "      <td>-73.8948859115406123</td>\n",
       "    </tr>\n",
       "  </tbody>\n",
       "</table>\n",
       "</div>"
      ],
      "text/plain": [
       "               NAME                  lat                  lon\n",
       "0          ASTOR PL  40.7300540002897833 -73.9910699986196647\n",
       "1          CANAL ST  40.7188030010770916 -74.0001929992732812\n",
       "2             50 ST  40.7617279996141875 -73.9838489998662538\n",
       "3         BERGEN ST  40.6808621368295604 -73.9749991511680776\n",
       "4  PENNSYLVANIA AVE  40.6647144514356782 -73.8948859115406123"
      ]
     },
     "execution_count": 27,
     "metadata": {},
     "output_type": "execute_result"
    }
   ],
   "source": [
    "# Check\n",
    "coords_df.head()"
   ]
  },
  {
   "cell_type": "markdown",
   "metadata": {},
   "source": [
    "### Left Joining Turnstile and Coordinate Datasets"
   ]
  },
  {
   "cell_type": "code",
   "execution_count": 28,
   "metadata": {},
   "outputs": [
    {
     "data": {
      "text/html": [
       "<div>\n",
       "<style scoped>\n",
       "    .dataframe tbody tr th:only-of-type {\n",
       "        vertical-align: middle;\n",
       "    }\n",
       "\n",
       "    .dataframe tbody tr th {\n",
       "        vertical-align: top;\n",
       "    }\n",
       "\n",
       "    .dataframe thead th {\n",
       "        text-align: right;\n",
       "    }\n",
       "</style>\n",
       "<table border=\"1\" class=\"dataframe\">\n",
       "  <thead>\n",
       "    <tr style=\"text-align: right;\">\n",
       "      <th></th>\n",
       "      <th>ID</th>\n",
       "      <th>DT</th>\n",
       "      <th>Station</th>\n",
       "      <th>Entries</th>\n",
       "      <th>Exits</th>\n",
       "      <th>Entry_Diff</th>\n",
       "      <th>Exit_Diff</th>\n",
       "      <th>Traffic</th>\n",
       "      <th>NAME</th>\n",
       "      <th>lat</th>\n",
       "      <th>lon</th>\n",
       "    </tr>\n",
       "  </thead>\n",
       "  <tbody>\n",
       "    <tr>\n",
       "      <th>0</th>\n",
       "      <td>A002 R051 02-00-00</td>\n",
       "      <td>2017-12-22 19:00:00</td>\n",
       "      <td>59 ST</td>\n",
       "      <td>6455505</td>\n",
       "      <td>2184926</td>\n",
       "      <td>282.0</td>\n",
       "      <td>51.0</td>\n",
       "      <td>333.0</td>\n",
       "      <td>59 ST</td>\n",
       "      <td>40.6413616662837995</td>\n",
       "      <td>-74.0178809995398694</td>\n",
       "    </tr>\n",
       "    <tr>\n",
       "      <th>1</th>\n",
       "      <td>A002 R051 02-00-00</td>\n",
       "      <td>2017-12-22 15:00:00</td>\n",
       "      <td>59 ST</td>\n",
       "      <td>6454819</td>\n",
       "      <td>2184867</td>\n",
       "      <td>686.0</td>\n",
       "      <td>59.0</td>\n",
       "      <td>745.0</td>\n",
       "      <td>59 ST</td>\n",
       "      <td>40.6413616662837995</td>\n",
       "      <td>-74.0178809995398694</td>\n",
       "    </tr>\n",
       "    <tr>\n",
       "      <th>2</th>\n",
       "      <td>A002 R051 02-00-00</td>\n",
       "      <td>2017-12-22 11:00:00</td>\n",
       "      <td>59 ST</td>\n",
       "      <td>6454437</td>\n",
       "      <td>2184773</td>\n",
       "      <td>382.0</td>\n",
       "      <td>94.0</td>\n",
       "      <td>476.0</td>\n",
       "      <td>59 ST</td>\n",
       "      <td>40.6413616662837995</td>\n",
       "      <td>-74.0178809995398694</td>\n",
       "    </tr>\n",
       "    <tr>\n",
       "      <th>3</th>\n",
       "      <td>A002 R051 02-00-00</td>\n",
       "      <td>2017-12-22 07:00:00</td>\n",
       "      <td>59 ST</td>\n",
       "      <td>6454285</td>\n",
       "      <td>2184501</td>\n",
       "      <td>152.0</td>\n",
       "      <td>272.0</td>\n",
       "      <td>424.0</td>\n",
       "      <td>59 ST</td>\n",
       "      <td>40.6413616662837995</td>\n",
       "      <td>-74.0178809995398694</td>\n",
       "    </tr>\n",
       "    <tr>\n",
       "      <th>4</th>\n",
       "      <td>A002 R051 02-00-00</td>\n",
       "      <td>2017-12-22 03:00:00</td>\n",
       "      <td>59 ST</td>\n",
       "      <td>6454273</td>\n",
       "      <td>2184470</td>\n",
       "      <td>12.0</td>\n",
       "      <td>31.0</td>\n",
       "      <td>43.0</td>\n",
       "      <td>59 ST</td>\n",
       "      <td>40.6413616662837995</td>\n",
       "      <td>-74.0178809995398694</td>\n",
       "    </tr>\n",
       "  </tbody>\n",
       "</table>\n",
       "</div>"
      ],
      "text/plain": [
       "                   ID                  DT Station  Entries    Exits  \\\n",
       "0  A002 R051 02-00-00 2017-12-22 19:00:00   59 ST  6455505  2184926   \n",
       "1  A002 R051 02-00-00 2017-12-22 15:00:00   59 ST  6454819  2184867   \n",
       "2  A002 R051 02-00-00 2017-12-22 11:00:00   59 ST  6454437  2184773   \n",
       "3  A002 R051 02-00-00 2017-12-22 07:00:00   59 ST  6454285  2184501   \n",
       "4  A002 R051 02-00-00 2017-12-22 03:00:00   59 ST  6454273  2184470   \n",
       "\n",
       "   Entry_Diff  Exit_Diff  Traffic   NAME                  lat  \\\n",
       "0       282.0       51.0    333.0  59 ST  40.6413616662837995   \n",
       "1       686.0       59.0    745.0  59 ST  40.6413616662837995   \n",
       "2       382.0       94.0    476.0  59 ST  40.6413616662837995   \n",
       "3       152.0      272.0    424.0  59 ST  40.6413616662837995   \n",
       "4        12.0       31.0     43.0  59 ST  40.6413616662837995   \n",
       "\n",
       "                   lon  \n",
       "0 -74.0178809995398694  \n",
       "1 -74.0178809995398694  \n",
       "2 -74.0178809995398694  \n",
       "3 -74.0178809995398694  \n",
       "4 -74.0178809995398694  "
      ]
     },
     "execution_count": 28,
     "metadata": {},
     "output_type": "execute_result"
    }
   ],
   "source": [
    "# Joining Coordinate Data with Turnstile Data\n",
    "full_df = df.merge(coords_df, how='left', left_on='Station', right_on='NAME')\n",
    "\n",
    "# Check\n",
    "full_df.head()"
   ]
  },
  {
   "cell_type": "markdown",
   "metadata": {},
   "source": [
    "### Subsetting Data for HeatMap"
   ]
  },
  {
   "cell_type": "code",
   "execution_count": 29,
   "metadata": {},
   "outputs": [
    {
     "data": {
      "text/html": [
       "<div>\n",
       "<style scoped>\n",
       "    .dataframe tbody tr th:only-of-type {\n",
       "        vertical-align: middle;\n",
       "    }\n",
       "\n",
       "    .dataframe tbody tr th {\n",
       "        vertical-align: top;\n",
       "    }\n",
       "\n",
       "    .dataframe thead th {\n",
       "        text-align: right;\n",
       "    }\n",
       "</style>\n",
       "<table border=\"1\" class=\"dataframe\">\n",
       "  <thead>\n",
       "    <tr style=\"text-align: right;\">\n",
       "      <th></th>\n",
       "      <th>Station</th>\n",
       "      <th>lat</th>\n",
       "      <th>lon</th>\n",
       "      <th>DT</th>\n",
       "      <th>Traffic</th>\n",
       "    </tr>\n",
       "  </thead>\n",
       "  <tbody>\n",
       "    <tr>\n",
       "      <th>0</th>\n",
       "      <td>103 ST</td>\n",
       "      <td>40.7994460003348252</td>\n",
       "      <td>-73.9683789996081771</td>\n",
       "      <td>1</td>\n",
       "      <td>476.6387874360847263</td>\n",
       "    </tr>\n",
       "    <tr>\n",
       "      <th>1</th>\n",
       "      <td>103 ST</td>\n",
       "      <td>40.7994460003348252</td>\n",
       "      <td>-73.9683789996081771</td>\n",
       "      <td>2</td>\n",
       "      <td>461.9665722379603494</td>\n",
       "    </tr>\n",
       "    <tr>\n",
       "      <th>2</th>\n",
       "      <td>103 ST</td>\n",
       "      <td>40.7994460003348252</td>\n",
       "      <td>-73.9683789996081771</td>\n",
       "      <td>3</td>\n",
       "      <td>496.9138943248532314</td>\n",
       "    </tr>\n",
       "    <tr>\n",
       "      <th>3</th>\n",
       "      <td>103 ST</td>\n",
       "      <td>40.7994460003348252</td>\n",
       "      <td>-73.9683789996081771</td>\n",
       "      <td>4</td>\n",
       "      <td>499.9649253731343492</td>\n",
       "    </tr>\n",
       "    <tr>\n",
       "      <th>4</th>\n",
       "      <td>103 ST</td>\n",
       "      <td>40.7994460003348252</td>\n",
       "      <td>-73.9683789996081771</td>\n",
       "      <td>5</td>\n",
       "      <td>492.1904090267983065</td>\n",
       "    </tr>\n",
       "  </tbody>\n",
       "</table>\n",
       "</div>"
      ],
      "text/plain": [
       "  Station                  lat                  lon  DT               Traffic\n",
       "0  103 ST  40.7994460003348252 -73.9683789996081771   1  476.6387874360847263\n",
       "1  103 ST  40.7994460003348252 -73.9683789996081771   2  461.9665722379603494\n",
       "2  103 ST  40.7994460003348252 -73.9683789996081771   3  496.9138943248532314\n",
       "3  103 ST  40.7994460003348252 -73.9683789996081771   4  499.9649253731343492\n",
       "4  103 ST  40.7994460003348252 -73.9683789996081771   5  492.1904090267983065"
      ]
     },
     "execution_count": 29,
     "metadata": {},
     "output_type": "execute_result"
    }
   ],
   "source": [
    "#  Monthly Data\n",
    "monthly_data = full_df.groupby([\"Station\", \"lat\", \"lon\", full_df[\"DT\"].dt.month])[\"Traffic\"].mean().reset_index()\n",
    "\n",
    "# Check\n",
    "monthly_data.head()"
   ]
  },
  {
   "cell_type": "code",
   "execution_count": 30,
   "metadata": {},
   "outputs": [
    {
     "data": {
      "text/html": [
       "<div>\n",
       "<style scoped>\n",
       "    .dataframe tbody tr th:only-of-type {\n",
       "        vertical-align: middle;\n",
       "    }\n",
       "\n",
       "    .dataframe tbody tr th {\n",
       "        vertical-align: top;\n",
       "    }\n",
       "\n",
       "    .dataframe thead th {\n",
       "        text-align: right;\n",
       "    }\n",
       "</style>\n",
       "<table border=\"1\" class=\"dataframe\">\n",
       "  <thead>\n",
       "    <tr style=\"text-align: right;\">\n",
       "      <th></th>\n",
       "      <th>Station</th>\n",
       "      <th>lat</th>\n",
       "      <th>lon</th>\n",
       "      <th>DT</th>\n",
       "      <th>Traffic</th>\n",
       "    </tr>\n",
       "  </thead>\n",
       "  <tbody>\n",
       "    <tr>\n",
       "      <th>0</th>\n",
       "      <td>103 ST</td>\n",
       "      <td>40.7994460003348252</td>\n",
       "      <td>-73.9683789996081771</td>\n",
       "      <td>1</td>\n",
       "      <td>476.6387874360847263</td>\n",
       "    </tr>\n",
       "    <tr>\n",
       "      <th>12</th>\n",
       "      <td>104 ST</td>\n",
       "      <td>40.6817110010911946</td>\n",
       "      <td>-73.8376830006099709</td>\n",
       "      <td>1</td>\n",
       "      <td>96.9867947178871503</td>\n",
       "    </tr>\n",
       "    <tr>\n",
       "      <th>24</th>\n",
       "      <td>110 ST</td>\n",
       "      <td>40.7950200001131051</td>\n",
       "      <td>-73.9442499968716334</td>\n",
       "      <td>1</td>\n",
       "      <td>450.4428706326723386</td>\n",
       "    </tr>\n",
       "    <tr>\n",
       "      <th>36</th>\n",
       "      <td>111 ST</td>\n",
       "      <td>40.6843310000123779</td>\n",
       "      <td>-73.8321629984538816</td>\n",
       "      <td>1</td>\n",
       "      <td>224.4622705642420044</td>\n",
       "    </tr>\n",
       "    <tr>\n",
       "      <th>48</th>\n",
       "      <td>116 ST</td>\n",
       "      <td>40.8020979991330037</td>\n",
       "      <td>-73.9496250009690499</td>\n",
       "      <td>1</td>\n",
       "      <td>349.2568852059468441</td>\n",
       "    </tr>\n",
       "  </tbody>\n",
       "</table>\n",
       "</div>"
      ],
      "text/plain": [
       "   Station                  lat                  lon  DT               Traffic\n",
       "0   103 ST  40.7994460003348252 -73.9683789996081771   1  476.6387874360847263\n",
       "12  104 ST  40.6817110010911946 -73.8376830006099709   1   96.9867947178871503\n",
       "24  110 ST  40.7950200001131051 -73.9442499968716334   1  450.4428706326723386\n",
       "36  111 ST  40.6843310000123779 -73.8321629984538816   1  224.4622705642420044\n",
       "48  116 ST  40.8020979991330037 -73.9496250009690499   1  349.2568852059468441"
      ]
     },
     "execution_count": 30,
     "metadata": {},
     "output_type": "execute_result"
    }
   ],
   "source": [
    "# Grab January's Data for all Stations\n",
    "month_1 = monthly_data.loc[monthly_data[\"DT\"] == 1]\n",
    "\n",
    "# Check\n",
    "month_1.head()"
   ]
  },
  {
   "cell_type": "markdown",
   "metadata": {},
   "source": [
    "### Plotting Map & HeatMap"
   ]
  },
  {
   "cell_type": "code",
   "execution_count": 31,
   "metadata": {},
   "outputs": [],
   "source": [
    "# Set starting location for map to be the centre of all coordinates \n",
    "location = monthly_data['lat'].mean(), monthly_data['lon'].mean()\n",
    "m = folium.Map(location=location, zoom_start=11.5, tiles=\"Stamen Toner\")\n",
    "\n",
    "# Transform data into list format\n",
    "heat_data = month_1[['lat','lon','Traffic']].values.tolist()"
   ]
  },
  {
   "cell_type": "code",
   "execution_count": 32,
   "metadata": {},
   "outputs": [
    {
     "data": {
      "text/plain": [
       "<folium.plugins.heat_map.HeatMap at 0x11ff5f240>"
      ]
     },
     "execution_count": 32,
     "metadata": {},
     "output_type": "execute_result"
    }
   ],
   "source": [
    "# Plot HeatMap with parameters\n",
    "from folium.plugins import HeatMap\n",
    "HeatMap(heat_data, radius=10, gradient={0.2: 'blue', 0.5: 'orange', 0.6: 'red'}, min_opacity=0.7, max_opacity=1, use_local_extrema=True).add_to(m)"
   ]
  },
  {
   "cell_type": "markdown",
   "metadata": {},
   "source": [
    "### Dropping Pins"
   ]
  },
  {
   "cell_type": "code",
   "execution_count": 33,
   "metadata": {},
   "outputs": [
    {
     "data": {
      "text/html": [
       "<div style=\"width:100%;\"><div style=\"position:relative;width:100%;height:0;padding-bottom:60%;\"><iframe src=\"data:text/html;charset=utf-8;base64,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\" style=\"position:absolute;width:100%;height:100%;left:0;top:0;border:none !important;\" allowfullscreen webkitallowfullscreen mozallowfullscreen></iframe></div></div>"
      ],
      "text/plain": [
       "<folium.folium.Map at 0x11ff5f358>"
      ]
     },
     "execution_count": 33,
     "metadata": {},
     "output_type": "execute_result"
    }
   ],
   "source": [
    "# Drop pins for Top 10 Busiest Stations in Year 2017\n",
    "yearly_sum_station = df.groupby([\"Station\"])[\"Traffic\"].sum().sort_values(ascending=False)\n",
    "\n",
    "top_ten = list(yearly_sum_station.head(10).index)\n",
    "\n",
    "for i in range(len(top_ten)):\n",
    "\n",
    "    lat = month_1.loc[month_1[\"Station\"] == top_ten[i]][\"lat\"]\n",
    "    lon = month_1.loc[month_1[\"Station\"] == top_ten[i]][\"lon\"]\n",
    "    \n",
    "    popup = folium.Popup('{}'.format(top_ten[i]), parse_html=True) \n",
    "    folium.Marker([lat,lon],popup=popup).add_to(m)\n",
    "\n",
    "m"
   ]
  },
  {
   "cell_type": "markdown",
   "metadata": {},
   "source": [
    "### Save Interactive HeatMap in HTML"
   ]
  },
  {
   "cell_type": "code",
   "execution_count": 16,
   "metadata": {},
   "outputs": [],
   "source": [
    "# m.save('map.html')"
   ]
  }
 ],
 "metadata": {
  "kernelspec": {
   "display_name": "Python 3",
   "language": "python",
   "name": "python3"
  },
  "language_info": {
   "codemirror_mode": {
    "name": "ipython",
    "version": 3
   },
   "file_extension": ".py",
   "mimetype": "text/x-python",
   "name": "python",
   "nbconvert_exporter": "python",
   "pygments_lexer": "ipython3",
   "version": "3.7.3"
  }
 },
 "nbformat": 4,
 "nbformat_minor": 2
}
