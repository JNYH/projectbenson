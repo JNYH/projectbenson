{
 "cells": [
  {
   "cell_type": "markdown",
   "metadata": {},
   "source": [
    "# Project Benson"
   ]
  },
  {
   "cell_type": "markdown",
   "metadata": {},
   "source": [
    "## Aim\n",
    "\n",
    "- High Gala Participation Rate\n",
    "\n",
    "## How?\n",
    "\n",
    "- Identifying High Traffic Volumes at Subway Entrances/Exits\n",
    " - By Day of Week\n",
    " - By Hour of Day\n",
    "\n",
    "\n",
    "\n",
    "- Identifying Target Audience (those more likely to be interested)\n",
    " - Identifying Stations with High Volumes of Non-Tourist Traffic (locals)\n",
    "     - By comparing station's weekend vs weekday traffic\n",
    "\n",
    " - [Demographic & Geographic Profiles](https://datausa.io/profile/geo/new-york-ny)\n",
    "     - Assume areas with more females more interested?\n",
    "     - Assume areas with higher income more likely to donate?\n",
    "     - Assume areas with younger demographics more interested?\n",
    "     - Assume areas with voters who support liberal party more interested?\n",
    "     - Assume areas with higher education level more interested?\n",
    "     - Assume areas with high employment in tech industry more interested?\n",
    "  "
   ]
  },
  {
   "cell_type": "markdown",
   "metadata": {},
   "source": []
  },
  {
   "cell_type": "code",
   "execution_count": null,
   "metadata": {},
   "outputs": [],
   "source": []
  },
  {
   "cell_type": "code",
   "execution_count": null,
   "metadata": {},
   "outputs": [],
   "source": []
  },
  {
   "cell_type": "code",
   "execution_count": null,
   "metadata": {},
   "outputs": [],
   "source": []
  },
  {
   "cell_type": "code",
   "execution_count": null,
   "metadata": {},
   "outputs": [],
   "source": []
  },
  {
   "cell_type": "code",
   "execution_count": null,
   "metadata": {},
   "outputs": [],
   "source": []
  }
 ],
 "metadata": {
  "kernelspec": {
   "display_name": "metis",
   "language": "python",
   "name": "metis"
  },
  "language_info": {
   "codemirror_mode": {
    "name": "ipython",
    "version": 3
   },
   "file_extension": ".py",
   "mimetype": "text/x-python",
   "name": "python",
   "nbconvert_exporter": "python",
   "pygments_lexer": "ipython3",
   "version": "3.7.3"
  }
 },
 "nbformat": 4,
 "nbformat_minor": 2
}
