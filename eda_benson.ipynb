{
 "cells": [
  {
   "cell_type": "markdown",
   "metadata": {},
   "source": [
    "# Project Benson"
   ]
  },
  {
   "cell_type": "markdown",
   "metadata": {},
   "source": [
    "## Aim\n",
    "\n",
    "- High Gala Participation Rate\n",
    "\n",
    "## How\n",
    "\n",
    "- Identifying High Traffic Volumes at Subway Entrances/Exits\n",
    " - By Day of Week\n",
    " - By Hour of Day\n",
    "\n",
    "\n",
    "\n",
    "- Identifying Target Audience (those more likely to be interested)\n",
    " - Identifying Stations with High Volumes of Non-Tourist Traffic (locals)\n",
    "     - By comparing station's weekend vs weekday traffic\n",
    "\n",
    " - [Demographic & Geographic Profiles](https://datausa.io/profile/geo/new-york-ny)\n",
    "     - Assume areas with more females more interested?\n",
    "     - Assume areas with higher income more likely to donate?\n",
    "     - Assume areas with younger demographics more interested?\n",
    "     - Assume areas with higher education level more interested?\n",
    "     - Assume areas with high employment in tech industry more interested?\n",
    "  "
   ]
  },
  {
   "cell_type": "markdown",
   "metadata": {},
   "source": []
  },
  {
   "cell_type": "markdown",
   "metadata": {},
   "source": [
    "## Importing Data for January - June 2019"
   ]
  },
  {
   "cell_type": "code",
   "execution_count": 1,
   "metadata": {},
   "outputs": [],
   "source": [
    "import pandas as pd\n",
    "from datetime import datetime"
   ]
  },
  {
   "cell_type": "code",
   "execution_count": 2,
   "metadata": {},
   "outputs": [
    {
     "name": "stderr",
     "output_type": "stream",
     "text": [
      "/Users/kc/anaconda3/lib/python3.7/site-packages/IPython/core/interactiveshell.py:3049: DtypeWarning: Columns (4) have mixed types. Specify dtype option on import or set low_memory=False.\n",
      "  interactivity=interactivity, compiler=compiler, result=result)\n"
     ]
    }
   ],
   "source": [
    "# 2017 Turnstile data from \"https://data.ny.gov/Transportation/Turnstile-Usage-Data-2017/v5y5-mwpb\"\n",
    "# Replace the path below with your own\n",
    "path = \"/Users/kc/OneDrive/Projects/projectbenson/data/data_2017.csv\"\n",
    "\n",
    "df = pd.read_csv(path, sep=',')"
   ]
  },
  {
   "cell_type": "code",
   "execution_count": 3,
   "metadata": {},
   "outputs": [],
   "source": [
    "# Remove whitespace from column names\n",
    "df.columns = df.columns.str.strip()\n",
    "\n",
    "# Dropping irrelevant columns\n",
    "df = df.drop(columns=[\"Line Name\", \"Division\", \"Description\"], axis=1)"
   ]
  },
  {
   "cell_type": "code",
   "execution_count": 4,
   "metadata": {},
   "outputs": [],
   "source": [
    "# Concatenate Date & Time into DateTime column DT\n",
    "df[\"DT\"] = df[['Date', 'Time']].apply(lambda x: ' '.join(x), axis=1)\n",
    "\n",
    "# Convert DT into DateTime format\n",
    "df[\"DT\"] = pd.to_datetime(df[\"DT\"], infer_datetime_format=True)\n",
    "\n",
    "# Concatenate C/A, Unit & SCP into 1 Unique Identifier Column\n",
    "df[\"ID\"] = df[[\"C/A\", \"Unit\", \"SCP\"]].apply(lambda x: ' '.join(x), axis=1)\n",
    "\n",
    "# Drop Unused Columns\n",
    "df.drop(columns=[\"Date\", \"Time\", \"C/A\", \"Unit\", \"SCP\"], axis=1, inplace=True)"
   ]
  },
  {
   "cell_type": "code",
   "execution_count": 10,
   "metadata": {},
   "outputs": [
    {
     "data": {
      "text/html": [
       "<div>\n",
       "<style scoped>\n",
       "    .dataframe tbody tr th:only-of-type {\n",
       "        vertical-align: middle;\n",
       "    }\n",
       "\n",
       "    .dataframe tbody tr th {\n",
       "        vertical-align: top;\n",
       "    }\n",
       "\n",
       "    .dataframe thead th {\n",
       "        text-align: right;\n",
       "    }\n",
       "</style>\n",
       "<table border=\"1\" class=\"dataframe\">\n",
       "  <thead>\n",
       "    <tr style=\"text-align: right;\">\n",
       "      <th></th>\n",
       "      <th>ID</th>\n",
       "      <th>DT</th>\n",
       "      <th>Station</th>\n",
       "      <th>Entries</th>\n",
       "      <th>Exits</th>\n",
       "    </tr>\n",
       "  </thead>\n",
       "  <tbody>\n",
       "    <tr>\n",
       "      <th>0</th>\n",
       "      <td>A002 R051 02-00-00</td>\n",
       "      <td>2017-12-22 23:00:00</td>\n",
       "      <td>59 ST</td>\n",
       "      <td>6455787</td>\n",
       "      <td>2184977</td>\n",
       "    </tr>\n",
       "    <tr>\n",
       "      <th>1</th>\n",
       "      <td>A002 R051 02-00-00</td>\n",
       "      <td>2017-12-22 19:00:00</td>\n",
       "      <td>59 ST</td>\n",
       "      <td>6455505</td>\n",
       "      <td>2184926</td>\n",
       "    </tr>\n",
       "    <tr>\n",
       "      <th>2</th>\n",
       "      <td>A002 R051 02-00-00</td>\n",
       "      <td>2017-12-22 15:00:00</td>\n",
       "      <td>59 ST</td>\n",
       "      <td>6454819</td>\n",
       "      <td>2184867</td>\n",
       "    </tr>\n",
       "    <tr>\n",
       "      <th>3</th>\n",
       "      <td>A002 R051 02-00-00</td>\n",
       "      <td>2017-12-22 11:00:00</td>\n",
       "      <td>59 ST</td>\n",
       "      <td>6454437</td>\n",
       "      <td>2184773</td>\n",
       "    </tr>\n",
       "    <tr>\n",
       "      <th>4</th>\n",
       "      <td>A002 R051 02-00-00</td>\n",
       "      <td>2017-12-22 07:00:00</td>\n",
       "      <td>59 ST</td>\n",
       "      <td>6454285</td>\n",
       "      <td>2184501</td>\n",
       "    </tr>\n",
       "    <tr>\n",
       "      <th>5</th>\n",
       "      <td>A002 R051 02-00-00</td>\n",
       "      <td>2017-12-22 03:00:00</td>\n",
       "      <td>59 ST</td>\n",
       "      <td>6454273</td>\n",
       "      <td>2184470</td>\n",
       "    </tr>\n",
       "    <tr>\n",
       "      <th>6</th>\n",
       "      <td>A002 R051 02-00-00</td>\n",
       "      <td>2017-12-21 23:00:00</td>\n",
       "      <td>59 ST</td>\n",
       "      <td>6454220</td>\n",
       "      <td>2184461</td>\n",
       "    </tr>\n",
       "    <tr>\n",
       "      <th>7</th>\n",
       "      <td>A002 R051 02-00-00</td>\n",
       "      <td>2017-12-21 19:00:00</td>\n",
       "      <td>59 ST</td>\n",
       "      <td>6453852</td>\n",
       "      <td>2184433</td>\n",
       "    </tr>\n",
       "    <tr>\n",
       "      <th>8</th>\n",
       "      <td>A002 R051 02-00-00</td>\n",
       "      <td>2017-12-21 15:00:00</td>\n",
       "      <td>59 ST</td>\n",
       "      <td>6453049</td>\n",
       "      <td>2184356</td>\n",
       "    </tr>\n",
       "    <tr>\n",
       "      <th>9</th>\n",
       "      <td>A002 R051 02-00-00</td>\n",
       "      <td>2017-12-21 11:00:00</td>\n",
       "      <td>59 ST</td>\n",
       "      <td>6452780</td>\n",
       "      <td>2184273</td>\n",
       "    </tr>\n",
       "  </tbody>\n",
       "</table>\n",
       "</div>"
      ],
      "text/plain": [
       "                   ID                  DT Station  Entries    Exits\n",
       "0  A002 R051 02-00-00 2017-12-22 23:00:00   59 ST  6455787  2184977\n",
       "1  A002 R051 02-00-00 2017-12-22 19:00:00   59 ST  6455505  2184926\n",
       "2  A002 R051 02-00-00 2017-12-22 15:00:00   59 ST  6454819  2184867\n",
       "3  A002 R051 02-00-00 2017-12-22 11:00:00   59 ST  6454437  2184773\n",
       "4  A002 R051 02-00-00 2017-12-22 07:00:00   59 ST  6454285  2184501\n",
       "5  A002 R051 02-00-00 2017-12-22 03:00:00   59 ST  6454273  2184470\n",
       "6  A002 R051 02-00-00 2017-12-21 23:00:00   59 ST  6454220  2184461\n",
       "7  A002 R051 02-00-00 2017-12-21 19:00:00   59 ST  6453852  2184433\n",
       "8  A002 R051 02-00-00 2017-12-21 15:00:00   59 ST  6453049  2184356\n",
       "9  A002 R051 02-00-00 2017-12-21 11:00:00   59 ST  6452780  2184273"
      ]
     },
     "execution_count": 10,
     "metadata": {},
     "output_type": "execute_result"
    }
   ],
   "source": [
    "# Rearrange Columns\n",
    "df = df[[\"ID\", \"DT\", \"Station\", \"Entries\", \"Exits\"]]\n",
    "\n",
    "df.head(10)"
   ]
  },
  {
   "cell_type": "code",
   "execution_count": 14,
   "metadata": {},
   "outputs": [
    {
     "data": {
      "text/html": [
       "<div>\n",
       "<style scoped>\n",
       "    .dataframe tbody tr th:only-of-type {\n",
       "        vertical-align: middle;\n",
       "    }\n",
       "\n",
       "    .dataframe tbody tr th {\n",
       "        vertical-align: top;\n",
       "    }\n",
       "\n",
       "    .dataframe thead th {\n",
       "        text-align: right;\n",
       "    }\n",
       "</style>\n",
       "<table border=\"1\" class=\"dataframe\">\n",
       "  <thead>\n",
       "    <tr style=\"text-align: right;\">\n",
       "      <th></th>\n",
       "      <th>ID</th>\n",
       "      <th>DT</th>\n",
       "      <th>Station</th>\n",
       "      <th>Entries</th>\n",
       "      <th>Exits</th>\n",
       "    </tr>\n",
       "  </thead>\n",
       "  <tbody>\n",
       "    <tr>\n",
       "      <th>5438154</th>\n",
       "      <td>PTH21 R540 01-00-02</td>\n",
       "      <td>2017-12-22 23:58:21</td>\n",
       "      <td>PATH WTC 2</td>\n",
       "      <td>97528</td>\n",
       "      <td>202371</td>\n",
       "    </tr>\n",
       "    <tr>\n",
       "      <th>5048864</th>\n",
       "      <td>PTH03 R552 00-02-01</td>\n",
       "      <td>2017-12-22 23:56:47</td>\n",
       "      <td>JOURNAL SQUARE</td>\n",
       "      <td>136701</td>\n",
       "      <td>154570</td>\n",
       "    </tr>\n",
       "    <tr>\n",
       "      <th>5322141</th>\n",
       "      <td>PTH17 R541 01-00-08</td>\n",
       "      <td>2017-12-22 23:55:58</td>\n",
       "      <td>THIRTY THIRD ST</td>\n",
       "      <td>306420</td>\n",
       "      <td>198216</td>\n",
       "    </tr>\n",
       "    <tr>\n",
       "      <th>4961633</th>\n",
       "      <td>PTH01 R549 00-00-02</td>\n",
       "      <td>2017-12-22 23:53:41</td>\n",
       "      <td>NEWARK HW BMEBE</td>\n",
       "      <td>59651</td>\n",
       "      <td>2069</td>\n",
       "    </tr>\n",
       "    <tr>\n",
       "      <th>5059370</th>\n",
       "      <td>PTH04 R551 00-00-05</td>\n",
       "      <td>2017-12-22 23:53:00</td>\n",
       "      <td>GROVE STREET</td>\n",
       "      <td>1341966</td>\n",
       "      <td>1777807</td>\n",
       "    </tr>\n",
       "  </tbody>\n",
       "</table>\n",
       "</div>"
      ],
      "text/plain": [
       "                          ID                  DT          Station  Entries  \\\n",
       "5438154  PTH21 R540 01-00-02 2017-12-22 23:58:21       PATH WTC 2    97528   \n",
       "5048864  PTH03 R552 00-02-01 2017-12-22 23:56:47   JOURNAL SQUARE   136701   \n",
       "5322141  PTH17 R541 01-00-08 2017-12-22 23:55:58  THIRTY THIRD ST   306420   \n",
       "4961633  PTH01 R549 00-00-02 2017-12-22 23:53:41  NEWARK HW BMEBE    59651   \n",
       "5059370  PTH04 R551 00-00-05 2017-12-22 23:53:00     GROVE STREET  1341966   \n",
       "\n",
       "           Exits  \n",
       "5438154   202371  \n",
       "5048864   154570  \n",
       "5322141   198216  \n",
       "4961633     2069  \n",
       "5059370  1777807  "
      ]
     },
     "execution_count": 14,
     "metadata": {},
     "output_type": "execute_result"
    }
   ],
   "source": [
    "df.sort_values(by=['DT', 'ID'], ascending=False).head()"
   ]
  }
 ],
 "metadata": {
  "kernelspec": {
   "display_name": "metis",
   "language": "python",
   "name": "metis"
  },
  "language_info": {
   "codemirror_mode": {
    "name": "ipython",
    "version": 3
   },
   "file_extension": ".py",
   "mimetype": "text/x-python",
   "name": "python",
   "nbconvert_exporter": "python",
   "pygments_lexer": "ipython3",
   "version": "3.7.3"
  }
 },
 "nbformat": 4,
 "nbformat_minor": 2
}
