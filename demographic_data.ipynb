{
 "cells": [
  {
   "cell_type": "markdown",
   "metadata": {},
   "source": [
    "# Project Benson"
   ]
  },
  {
   "cell_type": "markdown",
   "metadata": {},
   "source": [
    "## Aim\n",
    "\n",
    "- High Gala Participation Rate\n",
    "\n",
    "## How?\n",
    "\n",
    "- Identifying High Traffic Volumes at Subway Entrances/Exits\n",
    " - By Day of Week\n",
    " - By Hour of Day\n",
    "\n",
    "\n",
    "- Identifying Target Audience (assumptions on those more likely to be interested)\n",
    " - Identifying Stations with High Volumes of Non-Tourist Traffic (locals)\n",
    "     - By comparing station's weekend vs weekday traffic\n",
    "\n",
    " - [Demographic & Geographic Profiles](https://datausa.io/profile/geo/new-york-ny)\n",
    "     - Assume areas with more females more interested?\n",
    "     - Assume areas with higher income more likely to donate?\n",
    "     - Assume areas with younger demographics more interested?\n",
    "     - Assume areas with higher education level more interested?\n",
    "     - Assume areas with high employment in tech industry more interested?\n",
    "  "
   ]
  },
  {
   "cell_type": "markdown",
   "metadata": {},
   "source": []
  },
  {
   "cell_type": "markdown",
   "metadata": {},
   "source": [
    "## Demographics - sex, income\n",
    "#### Based on county"
   ]
  },
  {
   "cell_type": "code",
   "execution_count": 65,
   "metadata": {
    "scrolled": true
   },
   "outputs": [
    {
     "name": "stdout",
     "output_type": "stream",
     "text": [
      "   CensusTract County Borough  TotalPop   Men  Women  Hispanic  White  Black  \\\n",
      "0  36005000100  Bronx   Bronx      7703  7133    570      29.9    6.1   60.9   \n",
      "1  36005000200  Bronx   Bronx      5403  2659   2744      75.8    2.3   16.0   \n",
      "2  36005000400  Bronx   Bronx      5915  2896   3019      62.7    3.6   30.7   \n",
      "3  36005001600  Bronx   Bronx      5879  2558   3321      65.1    1.6   32.4   \n",
      "4  36005001900  Bronx   Bronx      2591  1206   1385      55.4    9.0   29.0   \n",
      "\n",
      "   Native      ...       Construction  Production Drive  Carpool  Transit  \\\n",
      "0     0.2      ...                NaN         NaN   NaN      NaN      NaN   \n",
      "1     0.0      ...                8.0        22.3  44.8     13.7     38.6   \n",
      "2     0.0      ...                9.0        10.5  41.3     10.0     44.6   \n",
      "3     0.0      ...                4.9        13.8  37.2      5.3     45.5   \n",
      "4     0.0      ...                6.6        11.0  19.2      5.3     63.9   \n",
      "\n",
      "   Walk  OtherTransp  WorkAtHome  MeanCommute  Unemployment  \n",
      "0   NaN          NaN         NaN          NaN           NaN  \n",
      "1   2.9          0.0         0.0         43.0           7.7  \n",
      "2   1.4          0.5         2.1         45.0           9.5  \n",
      "3   8.6          1.6         1.7         38.8           8.7  \n",
      "4   3.0          2.4         6.2         45.4          19.2  \n",
      "\n",
      "[5 rows x 29 columns]\n"
     ]
    }
   ],
   "source": [
    "import pandas as pd\n",
    "import matplotlib.pyplot as plt\n",
    "import seaborn as sns\n",
    "import numpy as np\n",
    "nycpop = pd.read_csv('nyc_census_tracts.csv')\n",
    "print(nycpop.head())"
   ]
  },
  {
   "cell_type": "markdown",
   "metadata": {},
   "source": [
    "Dataset from: https://www.kaggle.com/muonneutrino/new-york-city-census-data/downloads/nyc_census_tracts.csv/1"
   ]
  },
  {
   "cell_type": "code",
   "execution_count": 2,
   "metadata": {
    "scrolled": true
   },
   "outputs": [
    {
     "data": {
      "text/html": [
       "<div>\n",
       "<style scoped>\n",
       "    .dataframe tbody tr th:only-of-type {\n",
       "        vertical-align: middle;\n",
       "    }\n",
       "\n",
       "    .dataframe tbody tr th {\n",
       "        vertical-align: top;\n",
       "    }\n",
       "\n",
       "    .dataframe thead th {\n",
       "        text-align: right;\n",
       "    }\n",
       "</style>\n",
       "<table border=\"1\" class=\"dataframe\">\n",
       "  <thead>\n",
       "    <tr style=\"text-align: right;\">\n",
       "      <th></th>\n",
       "      <th>Men</th>\n",
       "      <th>Women</th>\n",
       "    </tr>\n",
       "    <tr>\n",
       "      <th>County</th>\n",
       "      <th></th>\n",
       "      <th></th>\n",
       "    </tr>\n",
       "  </thead>\n",
       "  <tbody>\n",
       "    <tr>\n",
       "      <th>Bronx</th>\n",
       "      <td>672447</td>\n",
       "      <td>755910</td>\n",
       "    </tr>\n",
       "    <tr>\n",
       "      <th>Kings</th>\n",
       "      <td>1229001</td>\n",
       "      <td>1366258</td>\n",
       "    </tr>\n",
       "    <tr>\n",
       "      <th>New York</th>\n",
       "      <td>769434</td>\n",
       "      <td>860073</td>\n",
       "    </tr>\n",
       "    <tr>\n",
       "      <th>Queens</th>\n",
       "      <td>1115459</td>\n",
       "      <td>1185680</td>\n",
       "    </tr>\n",
       "    <tr>\n",
       "      <th>Richmond</th>\n",
       "      <td>228703</td>\n",
       "      <td>243778</td>\n",
       "    </tr>\n",
       "  </tbody>\n",
       "</table>\n",
       "</div>"
      ],
      "text/plain": [
       "              Men    Women\n",
       "County                    \n",
       "Bronx      672447   755910\n",
       "Kings     1229001  1366258\n",
       "New York   769434   860073\n",
       "Queens    1115459  1185680\n",
       "Richmond   228703   243778"
      ]
     },
     "execution_count": 2,
     "metadata": {},
     "output_type": "execute_result"
    }
   ],
   "source": [
    "#sum of men & women per county\n",
    "nycpop.groupby('County')['Men','Women'].sum()"
   ]
  },
  {
   "cell_type": "code",
   "execution_count": 24,
   "metadata": {},
   "outputs": [
    {
     "data": {
      "text/html": [
       "<div>\n",
       "<style scoped>\n",
       "    .dataframe tbody tr th:only-of-type {\n",
       "        vertical-align: middle;\n",
       "    }\n",
       "\n",
       "    .dataframe tbody tr th {\n",
       "        vertical-align: top;\n",
       "    }\n",
       "\n",
       "    .dataframe thead th {\n",
       "        text-align: right;\n",
       "    }\n",
       "</style>\n",
       "<table border=\"1\" class=\"dataframe\">\n",
       "  <thead>\n",
       "    <tr style=\"text-align: right;\">\n",
       "      <th></th>\n",
       "      <th>County</th>\n",
       "      <th>Men</th>\n",
       "      <th>Women</th>\n",
       "    </tr>\n",
       "  </thead>\n",
       "  <tbody>\n",
       "    <tr>\n",
       "      <th>0</th>\n",
       "      <td>Bronx</td>\n",
       "      <td>7133</td>\n",
       "      <td>570</td>\n",
       "    </tr>\n",
       "    <tr>\n",
       "      <th>1</th>\n",
       "      <td>Bronx</td>\n",
       "      <td>2659</td>\n",
       "      <td>2744</td>\n",
       "    </tr>\n",
       "    <tr>\n",
       "      <th>2</th>\n",
       "      <td>Bronx</td>\n",
       "      <td>2896</td>\n",
       "      <td>3019</td>\n",
       "    </tr>\n",
       "    <tr>\n",
       "      <th>3</th>\n",
       "      <td>Bronx</td>\n",
       "      <td>2558</td>\n",
       "      <td>3321</td>\n",
       "    </tr>\n",
       "    <tr>\n",
       "      <th>4</th>\n",
       "      <td>Bronx</td>\n",
       "      <td>1206</td>\n",
       "      <td>1385</td>\n",
       "    </tr>\n",
       "  </tbody>\n",
       "</table>\n",
       "</div>"
      ],
      "text/plain": [
       "  County   Men  Women\n",
       "0  Bronx  7133    570\n",
       "1  Bronx  2659   2744\n",
       "2  Bronx  2896   3019\n",
       "3  Bronx  2558   3321\n",
       "4  Bronx  1206   1385"
      ]
     },
     "execution_count": 24,
     "metadata": {},
     "output_type": "execute_result"
    }
   ],
   "source": [
    "#select columns to use for graph\n",
    "nycpop_gender = nycpop[[\"County\",\"Men\",\"Women\"]]\n",
    "nycpop_gender.head()"
   ]
  },
  {
   "cell_type": "code",
   "execution_count": 49,
   "metadata": {},
   "outputs": [
    {
     "name": "stdout",
     "output_type": "stream",
     "text": [
      "        County Gender  Count_person\n",
      "0        Bronx    Men          7133\n",
      "1        Bronx    Men          2659\n",
      "2        Bronx    Men          2896\n",
      "3        Bronx    Men          2558\n",
      "4        Bronx    Men          1206\n",
      "5        Bronx    Men          3301\n",
      "6        Bronx    Men          2130\n",
      "7        Bronx    Men           109\n",
      "8        Bronx    Men          2338\n",
      "9        Bronx    Men          1375\n",
      "10       Bronx    Men          2427\n",
      "11       Bronx    Men          2292\n",
      "12       Bronx    Men           769\n",
      "13       Bronx    Men          1824\n",
      "14       Bronx    Men          1921\n",
      "15       Bronx    Men           128\n",
      "16       Bronx    Men           542\n",
      "17       Bronx    Men          3520\n",
      "18       Bronx    Men           675\n",
      "19       Bronx    Men          3125\n",
      "20       Bronx    Men          3147\n",
      "21       Bronx    Men          3094\n",
      "22       Bronx    Men          2081\n",
      "23       Bronx    Men           845\n",
      "24       Bronx    Men          2154\n",
      "25       Bronx    Men          2313\n",
      "26       Bronx    Men          2867\n",
      "27       Bronx    Men          2256\n",
      "28       Bronx    Men          1028\n",
      "29       Bronx    Men          1514\n",
      "...        ...    ...           ...\n",
      "4304  Richmond  Women          4530\n",
      "4305  Richmond  Women          3191\n",
      "4306  Richmond  Women          2954\n",
      "4307  Richmond  Women          2306\n",
      "4308  Richmond  Women          1423\n",
      "4309  Richmond  Women          4302\n",
      "4310  Richmond  Women            35\n",
      "4311  Richmond  Women          2181\n",
      "4312  Richmond  Women          1580\n",
      "4313  Richmond  Women          3653\n",
      "4314  Richmond  Women          2218\n",
      "4315  Richmond  Women          1419\n",
      "4316  Richmond  Women          2368\n",
      "4317  Richmond  Women          2880\n",
      "4318  Richmond  Women          1955\n",
      "4319  Richmond  Women          1628\n",
      "4320  Richmond  Women          3505\n",
      "4321  Richmond  Women          2183\n",
      "4322  Richmond  Women          3056\n",
      "4323  Richmond  Women          1757\n",
      "4324  Richmond  Women          1198\n",
      "4325  Richmond  Women          1496\n",
      "4326  Richmond  Women          3762\n",
      "4327  Richmond  Women          3963\n",
      "4328  Richmond  Women          2524\n",
      "4329  Richmond  Women          3186\n",
      "4330  Richmond  Women          1597\n",
      "4331  Richmond  Women          2568\n",
      "4332  Richmond  Women           534\n",
      "4333  Richmond  Women             0\n",
      "\n",
      "[4334 rows x 3 columns]\n"
     ]
    }
   ],
   "source": [
    "nycpop_gender_melted = pd.melt(nycpop_gender, id_vars=\"County\",var_name=\"Gender\",value_name=\"Count_person\")\n",
    "print(nycpop_gender_melted)"
   ]
  },
  {
   "cell_type": "code",
   "execution_count": 108,
   "metadata": {},
   "outputs": [
    {
     "data": {
      "image/png": "[encoded data removed]",
      "text/plain": [
       "<Figure size 720x504 with 1 Axes>"
      ]
     },
     "metadata": {},
     "output_type": "display_data"
    }
   ],
   "source": [
    "#graph for Men vs Women\n",
    "sns.set(rc={'figure.figsize':(10,7)})\n",
    "my_colour = {\"Men\": \"#5598ec\", \"Women\": \"#ef6ca6\"}\n",
    "\n",
    "sns.barplot(x=\"County\",y=\"Count_person\", hue=\"Gender\", ci=None, palette=my_colour,\n",
    "            data=nycpop_gender_melted, estimator=sum);\n",
    "sns.despine()\n",
    "plt.legend(loc='upper right')\n",
    "\n",
    "plt.title('Total Population of Men vs Women in Each County', fontsize=20, fontweight='bold')\n",
    "plt.xlabel('County', fontsize=16, fontweight='bold')\n",
    "plt.ylabel('Population Count', fontsize=14, fontweight='bold')\n",
    "\n",
    "plt.savefig('Gender barplot.svg')"
   ]
  },
  {
   "cell_type": "code",
   "execution_count": 55,
   "metadata": {},
   "outputs": [],
   "source": [
    "#sns.barplot(x=\"County\",y=\"Women\", ci=None, palette=sns.color_palette(\"husl\", 1), data=nycpop);"
   ]
  },
  {
   "cell_type": "code",
   "execution_count": 6,
   "metadata": {
    "scrolled": true
   },
   "outputs": [
    {
     "data": {
      "text/plain": [
       "County\n",
       "New York    69351.519573\n",
       "Richmond    32022.444444\n",
       "Kings       27866.530667\n",
       "Queens      27596.498452\n",
       "Bronx       19481.574405\n",
       "Name: IncomePerCap, dtype: float64"
      ]
     },
     "execution_count": 6,
     "metadata": {},
     "output_type": "execute_result"
    }
   ],
   "source": [
    "#average income per capita in each county\n",
    "nycpop.groupby('County')['IncomePerCap'].mean().sort_values(ascending=False)"
   ]
  },
  {
   "cell_type": "code",
   "execution_count": 109,
   "metadata": {},
   "outputs": [
    {
     "data": {
      "image/png": "[encoded data removed]",
      "text/plain": [
       "<Figure size 720x504 with 1 Axes>"
      ]
     },
     "metadata": {},
     "output_type": "display_data"
    }
   ],
   "source": [
    "#graph for average income\n",
    "sns.barplot(x=\"County\",y=\"IncomePerCap\", ci=None, color='#a28ad2', data=nycpop)\n",
    "sns.despine()\n",
    "\n",
    "plt.title('Average Income in Each County', fontsize=20, fontweight='bold')\n",
    "plt.xlabel('County', fontsize=16, fontweight='bold')\n",
    "plt.ylabel('Income Per Capita (Mean)', fontsize=14, fontweight='bold')\n",
    "\n",
    "plt.savefig('Income barplot.svg')"
   ]
  },
  {
   "cell_type": "code",
   "execution_count": 107,
   "metadata": {},
   "outputs": [
    {
     "data": {
      "text/html": [
       "<div>\n",
       "<style scoped>\n",
       "    .dataframe tbody tr th:only-of-type {\n",
       "        vertical-align: middle;\n",
       "    }\n",
       "\n",
       "    .dataframe tbody tr th {\n",
       "        vertical-align: top;\n",
       "    }\n",
       "\n",
       "    .dataframe thead th {\n",
       "        text-align: right;\n",
       "    }\n",
       "</style>\n",
       "<table border=\"1\" class=\"dataframe\">\n",
       "  <thead>\n",
       "    <tr style=\"text-align: right;\">\n",
       "      <th></th>\n",
       "      <th>Professional</th>\n",
       "      <th>Service</th>\n",
       "      <th>Office</th>\n",
       "      <th>Construction</th>\n",
       "      <th>Production</th>\n",
       "    </tr>\n",
       "    <tr>\n",
       "      <th>County</th>\n",
       "      <th></th>\n",
       "      <th></th>\n",
       "      <th></th>\n",
       "      <th></th>\n",
       "      <th></th>\n",
       "    </tr>\n",
       "  </thead>\n",
       "  <tbody>\n",
       "    <tr>\n",
       "      <th>Kings</th>\n",
       "      <td>27916.1</td>\n",
       "      <td>18185.2</td>\n",
       "      <td>17393.6</td>\n",
       "      <td>4872.7</td>\n",
       "      <td>6635.3</td>\n",
       "    </tr>\n",
       "    <tr>\n",
       "      <th>Queens</th>\n",
       "      <td>21088.7</td>\n",
       "      <td>15807.7</td>\n",
       "      <td>15843.0</td>\n",
       "      <td>5324.2</td>\n",
       "      <td>6936.4</td>\n",
       "    </tr>\n",
       "    <tr>\n",
       "      <th>New York</th>\n",
       "      <td>16313.1</td>\n",
       "      <td>4165.4</td>\n",
       "      <td>5841.3</td>\n",
       "      <td>585.6</td>\n",
       "      <td>1195.5</td>\n",
       "    </tr>\n",
       "    <tr>\n",
       "      <th>Bronx</th>\n",
       "      <td>8188.3</td>\n",
       "      <td>11112.5</td>\n",
       "      <td>8099.0</td>\n",
       "      <td>2371.7</td>\n",
       "      <td>3728.0</td>\n",
       "    </tr>\n",
       "    <tr>\n",
       "      <th>Richmond</th>\n",
       "      <td>4121.0</td>\n",
       "      <td>2197.3</td>\n",
       "      <td>2591.2</td>\n",
       "      <td>935.5</td>\n",
       "      <td>954.0</td>\n",
       "    </tr>\n",
       "  </tbody>\n",
       "</table>\n",
       "</div>"
      ],
      "text/plain": [
       "          Professional  Service   Office  Construction  Production\n",
       "County                                                            \n",
       "Kings          27916.1  18185.2  17393.6        4872.7      6635.3\n",
       "Queens         21088.7  15807.7  15843.0        5324.2      6936.4\n",
       "New York       16313.1   4165.4   5841.3         585.6      1195.5\n",
       "Bronx           8188.3  11112.5   8099.0        2371.7      3728.0\n",
       "Richmond        4121.0   2197.3   2591.2         935.5       954.0"
      ]
     },
     "execution_count": 107,
     "metadata": {},
     "output_type": "execute_result"
    }
   ],
   "source": [
    "#number of professional\n",
    "nycpop.groupby('County')['Professional','Service','Office','Construction','Production'].sum().sort_values(by=['Professional'],ascending=False)"
   ]
  },
  {
   "cell_type": "code",
   "execution_count": null,
   "metadata": {},
   "outputs": [],
   "source": []
  }
 ],
 "metadata": {
  "kernelspec": {
   "display_name": "metis",
   "language": "python",
   "name": "metis"
  },
  "language_info": {
   "codemirror_mode": {
    "name": "ipython",
    "version": 3
   },
   "file_extension": ".py",
   "mimetype": "text/x-python",
   "name": "python",
   "nbconvert_exporter": "python",
   "pygments_lexer": "ipython3",
   "version": "3.7.1"
  }
 },
 "nbformat": 4,
 "nbformat_minor": 2
}
